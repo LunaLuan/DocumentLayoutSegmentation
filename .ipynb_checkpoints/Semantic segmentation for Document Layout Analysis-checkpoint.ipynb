{
 "cells": [
  {
   "cell_type": "markdown",
   "metadata": {},
   "source": [
    "## I. Introduction:"
   ]
  },
  {
   "cell_type": "markdown",
   "metadata": {},
   "source": [
    "Senmatic Segmentation là task đánh nhãn mỗi pixel trong 1 bức ảnh với các nhóm đã định nghĩa trước và được kỳ vọng sẽ có nhiều ứng dụng trong xe tự lái và ứng dụng y tế. Hiện tại, các phương pháp deep learning, đặc biệt là phương pháp Convolution neural network đang là state-of-the-arts của rất nhiều dạng bài toán Computer vision dựa trên khả năng bóc tách một lượng lớn features từ data, hơn là cách truyền thống phải làm bằng tay."
   ]
  },
  {
   "cell_type": "markdown",
   "metadata": {},
   "source": [
    "Có 2 tasks chính liên quan đến nhận dạng vật thể trong ảnh: object detection và object segmentation. Hiện tại một số nghiên cứu đang hướng đến dạng bài toán instance segmentation cho phép nhận dạng từng vật thể trong ảnh.\n",
    "\n",
    "Để hiểu cách thức hoạt động chung của các phương pháp này ta xét ví dụ sau:"
   ]
  },
  {
   "cell_type": "markdown",
   "metadata": {},
   "source": [
    "![](img_notebook/1.png?raw=true)"
   ]
  },
  {
   "cell_type": "markdown",
   "metadata": {},
   "source": [
    "Câu hỏi là làm thế nào để tìm được vị trí của con mèo và con hươu trong bức ảnh trên. Để thực hiện task ta có thể thực hiện như sau:\n",
    "\n",
    "- Tạo 1 bộ detector có khả năng nhận dạng được con hươu, con mèo... . Detector này cần nhỏ hơn kích thước ảnh cần nhận dạng.\n",
    "- Trượt detector qua toàn bộ ảnh, nhận dạng xem trong vùng đó có chứa con hươu hay con mèo hay không."
   ]
  },
  {
   "cell_type": "markdown",
   "metadata": {},
   "source": [
    "![](img_notebook/3.png?raw=true)\n",
    "![](img_notebook/4.png?raw=true)\n",
    "![](img_notebook/5.png?raw=true)"
   ]
  },
  {
   "cell_type": "markdown",
   "metadata": {},
   "source": [
    "Đó là cách thức hoạt động cơ bản của các phương pháp object detection và object segmentation. \n",
    "Khác nhau cơ bản nằm ở việc object detection đánh dấu object phát hiện theo vùng, thường là ô vuông còn object segmentation đánh dấu object theo từng pixels trên ảnh."
   ]
  },
  {
   "cell_type": "markdown",
   "metadata": {},
   "source": [
    "![](img_notebook/2.png?raw=true)\n",
    "![](img_notebook/6.png?raw=true)"
   ]
  },
  {
   "cell_type": "markdown",
   "metadata": {},
   "source": [
    "Các thuật toán cơ bản có thể kể ra như:\n",
    "\n",
    "- Object detection:\n",
    "    - R-CNN.\n",
    "    - Fast R-CNN.\n",
    "    - YOLO.\n",
    "    - ...\n",
    "    \n",
    "- Object segmentation:\n",
    "    - FCN.\n",
    "    - U-net.\n",
    "    - ...\n",
    "    \n",
    "Các phương pháp trên đều xây dựng detector dựa vào phương pháp Convolution Neural Network."
   ]
  },
  {
   "cell_type": "markdown",
   "metadata": {},
   "source": [
    "## II. Locally Detection vs Global Detection:"
   ]
  },
  {
   "cell_type": "markdown",
   "metadata": {},
   "source": [
    "Trong các original paper đều mô tả rằng kết quả sau khi thực hiện khá thô, dù có training theo bất kỳ cách nào.\n",
    "\n",
    "Phân tích ví dụ sau: Dùng detector ở trên áp dụng để tìm con mèo sau:"
   ]
  },
  {
   "cell_type": "markdown",
   "metadata": {},
   "source": [
    "![](img_notebook/7.png?raw=true)"
   ]
  },
  {
   "cell_type": "markdown",
   "metadata": {},
   "source": [
    "Kết quả sẽ như sau:"
   ]
  },
  {
   "cell_type": "markdown",
   "metadata": {},
   "source": [
    "![](img_notebook/8.png?raw=true)"
   ]
  },
  {
   "cell_type": "markdown",
   "metadata": {},
   "source": [
    "Ta nhận thấy vùng lông của con mèo có thể là vùng lông chó. Các phương pháp convolution neural network chỉ làm được locally detection, global detection được thực hiện ở mức rất thưa. Kết quả sẽ tạo ra nhiều khoảng màu loang lổ nằm riêng rẽ.\n",
    "\n",
    "Hiện tại có nhiều mô hình cố gắng mở rộng độ lớn của detector hoặc xử dụng nhiều detector với kích thước khác nhau để giải quyết vấn đề này nhưng đều chưa thể giải quyết triệt để.\n",
    "\n",
    "Như vậy cần thiết phải có 1 model phức tạp hơn convolution neural network."
   ]
  },
  {
   "cell_type": "markdown",
   "metadata": {},
   "source": [
    "## III. Image là gì ?"
   ]
  },
  {
   "cell_type": "markdown",
   "metadata": {},
   "source": [
    "Máy tính coi image là gì? Theo các cách hiểu thông thường, image được coi là 1 giá trị. Ví dụ ảnh trên có giá trị \n",
    "x = [[187, 186, ..]...]. Với cách hiểu này, ta có thể thực hiện các phép tính đổi màu, clustering pixel theo màu..."
   ]
  },
  {
   "cell_type": "markdown",
   "metadata": {},
   "source": [
    "Với phương pháp convolution neural network, image được coi là một hàm f. Nếu image là 1 hàm, ta có thể tiến hành các phép vi phân, đạo hàm, tích phân trên ảnh và thực hiện các phép biến đổi ảnh như biến đổi hàm. Đây là ví dụ về việc tính gradient trên ảnh:"
   ]
  },
  {
   "cell_type": "markdown",
   "metadata": {},
   "source": [
    "![](img_notebook/image as function.png?raw=true)"
   ]
  },
  {
   "cell_type": "markdown",
   "metadata": {},
   "source": [
    "Như ở trên mô tả, ta nhận thấy phương pháp convolution neural network không thể thực hiện tốt được bước global detection. Một ứng cử viên để cải tiên phương pháp này là coi image là 1 thứ khác, ví dụ như graph:"
   ]
  },
  {
   "cell_type": "markdown",
   "metadata": {},
   "source": [
    "![](img_notebook/image as graph.png?raw=true)"
   ]
  },
  {
   "cell_type": "markdown",
   "metadata": {},
   "source": [
    "Phương pháp graph đang là state-of-the-arts để thực hiện global detection. Ví dụ được thể hiện như sau:"
   ]
  },
  {
   "cell_type": "markdown",
   "metadata": {},
   "source": [
    "![](img_notebook/densecrf1.png?raw=true)"
   ]
  },
  {
   "cell_type": "markdown",
   "metadata": {},
   "source": [
    "- Các ảnh (b) được thực hiện bằng phương pháp unary classifiers (locally detection) cho kết quả rất thô.\n",
    "- Các ảnh (d) cho kết quả tốt nhất nhưng đồ thị rất lớn, thời gian infer rất lâu (36 hrs).Cách này thực sự là global detection vì nối toàn bộ các pixel trên ảnh thành 1 graph.\n",
    "- Các ảnh (e) cho kết quả tốt, nhưng thực tế được thực hiện chỉ trên 1 khoảng rất nhỏ."
   ]
  }
 ],
 "metadata": {
  "kernelspec": {
   "display_name": "Python 3",
   "language": "python",
   "name": "python3"
  },
  "language_info": {
   "codemirror_mode": {
    "name": "ipython",
    "version": 3
   },
   "file_extension": ".py",
   "mimetype": "text/x-python",
   "name": "python",
   "nbconvert_exporter": "python",
   "pygments_lexer": "ipython3",
   "version": "3.6.5"
  }
 },
 "nbformat": 4,
 "nbformat_minor": 2
}
